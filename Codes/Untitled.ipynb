{
 "cells": [
  {
   "cell_type": "code",
   "execution_count": 1,
   "id": "f64157bc-b3f2-4fb2-b14c-86d4112537aa",
   "metadata": {},
   "outputs": [
    {
     "ename": "ModuleNotFoundError",
     "evalue": "No module named 'tensorflow'",
     "output_type": "error",
     "traceback": [
      "\u001b[1;31m---------------------------------------------------------------------------\u001b[0m",
      "\u001b[1;31mModuleNotFoundError\u001b[0m                       Traceback (most recent call last)",
      "Cell \u001b[1;32mIn[1], line 1\u001b[0m\n\u001b[1;32m----> 1\u001b[0m \u001b[38;5;28;01mimport\u001b[39;00m \u001b[38;5;21;01mtensorflow\u001b[39;00m \u001b[38;5;28;01mas\u001b[39;00m \u001b[38;5;21;01mtf\u001b[39;00m\n\u001b[0;32m      2\u001b[0m \u001b[38;5;28;01mimport\u001b[39;00m \u001b[38;5;21;01mnumpy\u001b[39;00m \u001b[38;5;28;01mas\u001b[39;00m \u001b[38;5;21;01mnp\u001b[39;00m\n\u001b[0;32m      3\u001b[0m \u001b[38;5;28;01mimport\u001b[39;00m \u001b[38;5;21;01mmatplotlib\u001b[39;00m\u001b[38;5;21;01m.\u001b[39;00m\u001b[38;5;21;01mpyplot\u001b[39;00m \u001b[38;5;28;01mas\u001b[39;00m \u001b[38;5;21;01mplt\u001b[39;00m\n",
      "\u001b[1;31mModuleNotFoundError\u001b[0m: No module named 'tensorflow'"
     ]
    }
   ],
   "source": [
    "import tensorflow as tf\n",
    "import numpy as np\n",
    "import matplotlib.pyplot as plt\n",
    "from skimage.io import imread\n",
    "from skimage.transform import resize\n",
    "\n",
    "# Parameters\n",
    "IMG_WIDTH = 128\n",
    "IMG_HEIGHT = 128\n",
    "IMG_CHANNELS = 3\n",
    "\n",
    "# Paths\n",
    "model_path = 'C:/Users/lenovo/Documents/GitHub/Mechatronics/Codes/crop_row_detection_model.h5'\n",
    "image_path = 'C:/Users/lenovo/Documents/GitHub/Mechatronics/paper Submission/Aerial Image2.png'\n",
    "\n",
    "# Load the trained model\n",
    "model = tf.keras.models.load_model(model_path, compile=False)\n",
    "\n",
    "# Load and preprocess the input image\n",
    "def preprocess_image(image_path):\n",
    "    # Load the image\n",
    "    img = imread(image_path)[:,:,:IMG_CHANNELS]\n",
    "    # Resize the image to the model input size\n",
    "    img_resized = resize(img, (IMG_HEIGHT, IMG_WIDTH), preserve_range=True, anti_aliasing=True).astype(np.uint8)\n",
    "    return img_resized\n",
    "\n",
    "# Predict the mask for the input image\n",
    "def predict_image_mask(image):\n",
    "    # Expand dimensions to fit model input (batch size, height, width, channels)\n",
    "    image_input = np.expand_dims(image, axis=0)\n",
    "    prediction = model.predict(image_input)[0]  # Remove batch dimension after prediction\n",
    "    predicted_mask = (prediction > 0.5).astype(np.uint8) * 255  # Convert to binary mask (0 or 255)\n",
    "    return predicted_mask\n",
    "\n",
    "# Load and preprocess the image\n",
    "input_image = preprocess_image(image_path)\n",
    "\n",
    "# Predict the mask\n",
    "predicted_mask = predict_image_mask(input_image)\n",
    "\n",
    "# Visualize the original image and the predicted mask\n",
    "def display_results(original_image, predicted_mask):\n",
    "    plt.figure(figsize=(10, 5))\n",
    "    \n",
    "    # Original image\n",
    "    plt.subplot(1, 2, 1)\n",
    "    plt.title('Original Image')\n",
    "    plt.imshow(original_image)\n",
    "    plt.axis('off')\n",
    "    \n",
    "    # Predicted mask\n",
    "    plt.subplot(1, 2, 2)\n",
    "    plt.title('Predicted Mask')\n",
    "    plt.imshow(predicted_mask, cmap='gray')\n",
    "    plt.axis('off')\n",
    "\n",
    "    plt.show()\n",
    "\n",
    "# Display the results\n",
    "display_results(input_image, predicted_mask)\n"
   ]
  },
  {
   "cell_type": "code",
   "execution_count": 3,
   "id": "a4420daa-87a2-4aeb-872f-67f32e919ffd",
   "metadata": {},
   "outputs": [
    {
     "name": "stdout",
     "output_type": "stream",
     "text": [
      "^C\n"
     ]
    }
   ],
   "source": [
    "!pip install tensorflow"
   ]
  },
  {
   "cell_type": "code",
   "execution_count": null,
   "id": "03d5e11e",
   "metadata": {},
   "outputs": [],
   "source": []
  }
 ],
 "metadata": {
  "kernelspec": {
   "display_name": "Python 3 (ipykernel)",
   "language": "python",
   "name": "python3"
  },
  "language_info": {
   "codemirror_mode": {
    "name": "ipython",
    "version": 3
   },
   "file_extension": ".py",
   "mimetype": "text/x-python",
   "name": "python",
   "nbconvert_exporter": "python",
   "pygments_lexer": "ipython3",
   "version": "3.11.9"
  }
 },
 "nbformat": 4,
 "nbformat_minor": 5
}
